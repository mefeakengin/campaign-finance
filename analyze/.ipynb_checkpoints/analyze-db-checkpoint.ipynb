{
 "cells": [
  {
   "cell_type": "code",
   "execution_count": 1,
   "metadata": {
    "collapsed": false,
    "deletable": true,
    "editable": true
   },
   "outputs": [
    {
     "name": "stdout",
     "output_type": "stream",
     "text": [
      "Opened database campaign-finance\n"
     ]
    }
   ],
   "source": [
    "### Connecting to DB\n",
    "\n",
    "import ConfigParser\n",
    "import psycopg2\n",
    "import os\n",
    "main_dir = os.getcwd()\n",
    "data_dir = 'data/fec/'\n",
    "\n",
    "# Connect to the database\n",
    "def connect():\n",
    "    # Read configurations from file\n",
    "    config = ConfigParser.ConfigParser()\n",
    "    config.read(\"../database/dbconfig.cnf\")\n",
    "    database = config.get('client', 'database')\n",
    "    user = config.get('client', 'user')\n",
    "    password = config.get('client', 'password')\n",
    "    hostname = config.get('client', 'hostname')\n",
    "    port = config.get('client', 'port')\n",
    "    conn = psycopg2.connect(database=database, user = user, password = password, host = hostname, port = port)\n",
    "    print \"Opened database \" + database\n",
    "    return conn\n",
    "\n",
    "conn = connect()\n",
    "cur = conn.cursor()"
   ]
  },
  {
   "cell_type": "code",
   "execution_count": 2,
   "metadata": {
    "collapsed": false,
    "deletable": true,
    "editable": true,
    "scrolled": false
   },
   "outputs": [
    {
     "name": "stdout",
     "output_type": "stream",
     "text": [
      "('candidate',)\n",
      "('individual',)\n",
      "('committee_to_candidate',)\n",
      "('committee_to_committee',)\n",
      "('committee',)\n"
     ]
    }
   ],
   "source": [
    "# Print the tables\n",
    "\n",
    "cur.execute(\"\"\"SELECT table_name FROM information_schema.tables WHERE table_schema = 'public'\"\"\")\n",
    "for table in cur.fetchall():\n",
    "    print(table)"
   ]
  },
  {
   "cell_type": "code",
   "execution_count": 3,
   "metadata": {
    "collapsed": true
   },
   "outputs": [],
   "source": [
    "# functions for formatting the data we get\n",
    "def format_data(data):\n",
    "    l = [[None] * len(data[0])] * len(data)\n",
    "    f = lambda x: x.strip() if type(x) is str else x\n",
    "    for i in range(len(data)):\n",
    "        l[i] = [f(elem) for elem in data[i]]\n",
    "        if i % 100000 == 0:\n",
    "            print i\n",
    "#     return [[(lambda x: x.strip() if type(x) is str else x)(x) for x in row] for row in data]"
   ]
  },
  {
   "cell_type": "code",
   "execution_count": 4,
   "metadata": {
    "collapsed": false,
    "deletable": true,
    "editable": true
   },
   "outputs": [],
   "source": [
    "# Get the data from every table and format the data\n",
    "# candidate\n",
    "cur.execute(\"\"\"SELECT * FROM CANDIDATE\"\"\")\n",
    "candidate_raw = cur.fetchall()\n",
    "candidate = format_data(candidate_raw)\n",
    "\n",
    "# committee\n",
    "cur.execute(\"\"\"SELECT * FROM COMMITTEE\"\"\")\n",
    "committee_raw = cur.fetchall()\n",
    "committee = format_data(committee_raw)"
   ]
  },
  {
   "cell_type": "code",
   "execution_count": null,
   "metadata": {
    "collapsed": true
   },
   "outputs": [],
   "source": [
    "# individual\n",
    "cur.execute(\"\"\"SELECT * FROM INDIVIDUAL\"\"\")\n",
    "individual_raw = cur.fetchall()\n",
    "individual = format_data(individual_raw)"
   ]
  },
  {
   "cell_type": "code",
   "execution_count": 5,
   "metadata": {
    "collapsed": false,
    "deletable": true,
    "editable": true
   },
   "outputs": [],
   "source": [
    "# comm_to_cand\n",
    "cur.execute(\"\"\"SELECT * FROM COMMITTEE_TO_CANDIDATE\"\"\")\n",
    "comm_to_cand_raw = cur.fetchall()\n",
    "comm_to_cand = format_data(comm_to_cand_raw)"
   ]
  },
  {
   "cell_type": "code",
   "execution_count": null,
   "metadata": {
    "collapsed": true
   },
   "outputs": [],
   "source": [
    "# comm_to_comm\n",
    "cur.execute(\"\"\"SELECT * FROM COMMITTEE_TO_COMMITTEE\"\"\")\n",
    "comm_to_comm_raw = cur.fetchall()\n",
    "comm_to_comm = format_data(comm_to_comm_raw)"
   ]
  },
  {
   "cell_type": "code",
   "execution_count": null,
   "metadata": {
    "collapsed": false,
    "deletable": true,
    "editable": true
   },
   "outputs": [],
   "source": [
    "print len(a[0].rstrip())\n",
    "# c = 'alice'\n",
    "# print type(c) is str"
   ]
  },
  {
   "cell_type": "code",
   "execution_count": null,
   "metadata": {
    "collapsed": true,
    "deletable": true,
    "editable": true
   },
   "outputs": [],
   "source": [
    "def strip_data(x):\n",
    "    if type(x) is str:\n",
    "        x = x.strip()\n",
    "    return x"
   ]
  }
 ],
 "metadata": {
  "kernelspec": {
   "display_name": "Python 2",
   "language": "python",
   "name": "python2"
  },
  "language_info": {
   "codemirror_mode": {
    "name": "ipython",
    "version": 2
   },
   "file_extension": ".py",
   "mimetype": "text/x-python",
   "name": "python",
   "nbconvert_exporter": "python",
   "pygments_lexer": "ipython2",
   "version": "2.7.12"
  }
 },
 "nbformat": 4,
 "nbformat_minor": 2
}
