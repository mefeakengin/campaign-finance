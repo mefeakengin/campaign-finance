{
 "cells": [
  {
   "cell_type": "code",
   "execution_count": 43,
   "metadata": {
    "collapsed": true,
    "deletable": true,
    "editable": true
   },
   "outputs": [],
   "source": [
    "### The data is fetched from the raw FEC files. \n",
    "\n",
    "import ConfigParser\n",
    "import psycopg2\n",
    "import os\n",
    "import csv\n",
    "import sys\n",
    "\n",
    "main_dir = os.getcwd()\n",
    "data_dir = '../data/fec/'\n",
    "\n",
    "# Connect to the database\n",
    "def connect():\n",
    "    # Read configurations from file\n",
    "    config = ConfigParser.ConfigParser()\n",
    "    config.read(main_dir + \"/dbconfig.cnf\")\n",
    "    database = config.get('client', 'database')\n",
    "    user = config.get('client', 'user')\n",
    "    password = config.get('client', 'password')\n",
    "    hostname = config.get('client', 'hostname')\n",
    "    port = config.get('client', 'port')\n",
    "    conn = psycopg2.connect(database=database, user = user, password = password, host = hostname, port = port)\n",
    "    print \"Opened database \" + database\n",
    "    return conn\n",
    "\n",
    "# Read files:\n",
    "def read_files(file_paths):\n",
    "    lines = []\n",
    "    for path in file_paths:\n",
    "        f = open(path, 'r')\n",
    "        new_lines = f.readlines()\n",
    "        print \"Length of new lines from path \" + path + \" \" + str(len(new_lines))\n",
    "        lines.extend(new_lines)\n",
    "    return [line.split('|') for line in lines]\n",
    "\n",
    "def read_data(paths, columns):\n",
    "    raw = read_files(paths)\n",
    "    data = [[row[column] for column in columns] for row in raw]\n",
    "    return data\n",
    "\n",
    "def read_csv_file(path):\n",
    "    data = []\n",
    "    with open(path) as csvfile:\n",
    "        readCSV = csv.reader(csvfile, delimiter=',')\n",
    "        for row in readCSV:\n",
    "            data.append(row)\n",
    "    return data\n",
    "\n",
    "def write_csv_file(path, header_list, data):\n",
    "    with open(path, 'wb') as csvfile:\n",
    "        filewriter = csv.writer(csvfile)\n",
    "        filewriter.writerow(header_list)\n",
    "        for row in data:\n",
    "            filewriter.writerow(row)"
   ]
  },
  {
   "cell_type": "code",
   "execution_count": 46,
   "metadata": {
    "collapsed": false,
    "deletable": true,
    "editable": true
   },
   "outputs": [
    {
     "name": "stdout",
     "output_type": "stream",
     "text": [
      "['C00371021', 'A', 'Q2', 'P', '27990778671', '15', 'IND', 'BEAL, ROBERT L.', 'BOSTON', 'MA', '02109', 'THE BEAL COMPANIES LLC', 'REAL ESTATE DEVELOPER', '05222007', '1000', '', 'C-23-01BH04', '307028', '', '', '4101520071081287609']\n"
     ]
    }
   ],
   "source": []
  },
  {
   "cell_type": "code",
   "execution_count": 2,
   "metadata": {
    "collapsed": false,
    "deletable": true,
    "editable": true
   },
   "outputs": [
    {
     "name": "stdout",
     "output_type": "stream",
     "text": [
      "Length of new lines from path ../data/fec/pas280.txt 132147\n",
      "Length of new lines from path ../data/fec/pas282.txt 167410\n",
      "Length of new lines from path ../data/fec/pas284.txt 198674\n",
      "Length of new lines from path ../data/fec/pas286.txt 213355\n",
      "Length of new lines from path ../data/fec/pas288.txt 214008\n",
      "Length of new lines from path ../data/fec/pas290.txt 199434\n",
      "Length of new lines from path ../data/fec/pas292.txt 228783\n",
      "Length of new lines from path ../data/fec/pas294.txt 227032\n",
      "Length of new lines from path ../data/fec/pas296.txt 250679\n",
      "Length of new lines from path ../data/fec/pas298.txt 229613\n",
      "Length of new lines from path ../data/fec/pas200.txt 247340\n",
      "Length of new lines from path ../data/fec/pas202.txt 237106\n",
      "Length of new lines from path ../data/fec/pas204.txt 245668\n",
      "Length of new lines from path ../data/fec/pas206.txt 266703\n",
      "Length of new lines from path ../data/fec/pas208.txt 305769\n",
      "Length of new lines from path ../data/fec/pas210.txt 325095\n",
      "Length of new lines from path ../data/fec/pas212.txt 394291\n",
      "Length of new lines from path ../data/fec/pas214.txt 350268\n",
      "Length of new lines from path ../data/fec/pas216.txt 516535\n",
      "Length of new lines from path ../data/fec/pas218.txt 131701\n"
     ]
    }
   ],
   "source": [
    "'''Committee To Committee Data'''\n",
    "\n",
    "'''Create the Committee Committee Contribution'''\n",
    "CMTE_TO_CMTE_CONTRIBUTED_ID_POS = 15\n",
    "CMTE_TO_CMTE_CONTRIBUTOR_ID_POS = 0\n",
    "CMTE_TO_CMTE_CONTRIBUTOR_NAME_POS = 7\n",
    "CMTE_TO_CMTE_TRAN_DATE_POS = 13\n",
    "CMTE_TO_CMTE_TRAN_AMOUNT_POS = 14\n",
    "CMTE_TO_CMTE_TRAN_TYPE_POS = 5\n",
    "\n",
    "committee_committee_paths = [(data_dir + 'pas2' + str(i)[2:] + '.txt') for i in range(1980, 2020, 2)]\n",
    "committee_committee_data = read_files(committee_committee_paths)"
   ]
  },
  {
   "cell_type": "code",
   "execution_count": 21,
   "metadata": {
    "collapsed": false,
    "deletable": true,
    "editable": true
   },
   "outputs": [
    {
     "name": "stdout",
     "output_type": "stream",
     "text": [
      "Length of new lines from path ../data/fec/cm80.txt 7884\n",
      "Length of new lines from path ../data/fec/cm82.txt 8291\n",
      "Length of new lines from path ../data/fec/cm84.txt 8465\n",
      "Length of new lines from path ../data/fec/cm86.txt 8518\n",
      "Length of new lines from path ../data/fec/cm88.txt 9218\n",
      "Length of new lines from path ../data/fec/cm90.txt 9134\n",
      "Length of new lines from path ../data/fec/cm92.txt 10759\n",
      "Length of new lines from path ../data/fec/cm94.txt 10815\n",
      "Length of new lines from path ../data/fec/cm96.txt 11075\n",
      "Length of new lines from path ../data/fec/cm98.txt 9976\n",
      "Length of new lines from path ../data/fec/cm00.txt 9577\n",
      "Length of new lines from path ../data/fec/cm02.txt 9103\n",
      "Length of new lines from path ../data/fec/cm04.txt 9322\n",
      "Length of new lines from path ../data/fec/cm06.txt 9282\n",
      "Length of new lines from path ../data/fec/cm08.txt 10017\n",
      "Length of new lines from path ../data/fec/cm10.txt 11138\n",
      "Length of new lines from path ../data/fec/cm12.txt 14455\n",
      "Length of new lines from path ../data/fec/cm14.txt 14905\n",
      "Length of new lines from path ../data/fec/cm16.txt 17827\n",
      "Length of new lines from path ../data/fec/cm18.txt 17094\n"
     ]
    }
   ],
   "source": [
    "'''Committee Data'''\n",
    "\n",
    "CMTE_ID_POS = 0\n",
    "CMTE_NAME_POS = 1\n",
    "CMTE_DSGN_POS = 8\n",
    "CMTE_TP_POS = 9\n",
    "CMTE_PTY_AFFILIATION_POS = 10\n",
    "ORG_TP_POS = 12\n",
    "CONNECTED_ORG_NAME_POS = 13\n",
    "\n",
    "committee_paths = [(data_dir + 'cm' + str(i)[2:] + '.txt') for i in range(1980, 2020, 2)]\n",
    "committee_data = read_files(committee_paths)"
   ]
  },
  {
   "cell_type": "code",
   "execution_count": 47,
   "metadata": {
    "collapsed": false,
    "deletable": true,
    "editable": true
   },
   "outputs": [
    {
     "data": {
      "text/plain": [
       "['orig_name', 'clean_name', 'match_cos', 'gvkey', 'cos_score']"
      ]
     },
     "execution_count": 47,
     "metadata": {},
     "output_type": "execute_result"
    }
   ],
   "source": [
    "### Find gvkeys of PACs, and create a table with PAC name, \n",
    "### PAC clean name, PAC id, gvkey, connected_org_name\n",
    "\n",
    "pac_gvkey_path = '../data' + '/pac_1980_2014_gvkey_match.csv'\n",
    "pac_gvkey_file = []\n",
    "pac_gvkey_file_header = []\n",
    "\n",
    "pac_gvkey_file = read_csv_file(pac_gvkey_path)\n",
    "pac_gvkey_file_header = pac_gvkey_file[0]\n",
    "pac_gvkey_file.pop(0)"
   ]
  },
  {
   "cell_type": "code",
   "execution_count": 30,
   "metadata": {
    "collapsed": true,
    "deletable": true,
    "editable": true
   },
   "outputs": [],
   "source": [
    "'''Create connected orgs'''\n",
    "\n",
    "connected_orgs = {}\n",
    "for row in committee_data:\n",
    "    if row[CONNECTED_ORG_NAME_POS]:\n",
    "        connected_orgs[row[CONNECTED_ORG_NAME_POS].lower()] = row"
   ]
  },
  {
   "cell_type": "code",
   "execution_count": 26,
   "metadata": {
    "collapsed": false,
    "deletable": true,
    "editable": true
   },
   "outputs": [
    {
     "name": "stdout",
     "output_type": "stream",
     "text": [
      "['LATTA FOR CONGRESS', \"PRESBYTERIAN MINISTERS' FUND\", 'OCEAN FEDERAL SAVINGS BANK', 'TALECRIS BIOTHERAPEUTICS INC', 'CALIFORNIA LEAGUE OF FOOD PROCESSORS', 'ROHM & HASS CO', 'The PBSJ Corporation', \"ALABAMA FEDERAL SAVINGS & LOAN ASS'N\", 'GENERAL FINANCE CORP', 'MCDONALD HOPKINS LLC']\n"
     ]
    }
   ],
   "source": [
    "print connected_orgs.keys()[0:10]"
   ]
  },
  {
   "cell_type": "code",
   "execution_count": 34,
   "metadata": {
    "collapsed": true,
    "deletable": true,
    "editable": true
   },
   "outputs": [],
   "source": [
    "def find_corp_name(corporate_name):\n",
    "    corporate_name = corporate_name.lower()\n",
    "    if corporate_name in connected_orgs:\n",
    "        row = connected_orgs[corporate_name]\n",
    "        return True, row[CMTE_NAME_POS], row[CMTE_ID_POS], row[CONNECTED_ORG_NAME_POS]\n",
    "    return False, '', '', ''"
   ]
  },
  {
   "cell_type": "code",
   "execution_count": 40,
   "metadata": {
    "collapsed": false,
    "deletable": true,
    "editable": true
   },
   "outputs": [
    {
     "name": "stdout",
     "output_type": "stream",
     "text": [
      "3274\n",
      "3272\n",
      "[['(DETROIT EDISON PAC) - (STATE)', '65089', 'DETROIT EDISON POLITICAL ACTION COMMITTEE - STATE', 'C00081547'], ['1-800 CONTACTS, INC.', '66425', '1-800 CONTACTS, INC. PAC', 'C00621912'], ['1ST SOURCE CORPORATION', '15199', '1ST SOURCE CORPORATION POLITICAL ACTION COMMITTEE', 'C00181529'], ['1ST SOURCE CORPORATION', '15199', '1ST SOURCE CORPORATION POLITICAL ACTION COMMITTEE', 'C00181529'], ['21ST CENTURY ONCOLOGY, INC', '265008', '21ST CENTURY ONCOLOGY, INC. POLITICAL ACTION COMMITTEE', 'C00385120'], ['21ST CENTURY PAC', '10771', 'MCKEON-21ST CENTURY PAC JOINT COMMITTEE', 'C00504308'], ['21ST CENTURY PARTY', '10771', \"NATIONAL COMMITTEE OF THE 21ST CENTURY PARTY THE NATION'S EQUALITY PARTY\", 'C00257659'], ['3COM CORPORATION', '10553', '3COM CORPORATION POLITICAL ACTION COMMITTEE', 'C00358614'], ['3M COMPANY', '7435', '3M COMPANY PAC', 'C00084475'], ['7-ELEVEN INC', '9872', '7 - ELEVEN INC PAC', 'C00549717']]\n"
     ]
    }
   ],
   "source": [
    "'''Find Committee IDs from Committee Names, Write To File'''\n",
    "corp_pac_path = '../data' + '/corporate-pac.csv'\n",
    "corp_pac_header = ['corporate_name', 'gvkey', 'pac_name', 'pac_id']\n",
    "corp_pac_data = []\n",
    "\n",
    "print 'pac_gvkey_file_length ', len(pac_gvkey_file)\n",
    "for row in pac_gvkey_file: ## Very inefficient algorithm\n",
    "    pac_gvkey_corporate_name = row[0]\n",
    "    pac_corp_gvkey = row[3]\n",
    "    cmte_exists, cmte_name, cmte_id, connected_org_name = find_corp_name(pac_gvkey_corporate_name)\n",
    "    if cmte_exists:\n",
    "        corp_pac_data.append([connected_org_name, pac_corp_gvkey, cmte_name, cmte_id])\n",
    "\n",
    "print 'corp_pac_length ', len(corp_pac_data)"
   ]
  },
  {
   "cell_type": "code",
   "execution_count": 44,
   "metadata": {
    "collapsed": false,
    "deletable": true,
    "editable": true
   },
   "outputs": [],
   "source": [
    "write_csv_file(corp_pac_path, corp_pac_header, corp_pac_data)"
   ]
  },
  {
   "cell_type": "code",
   "execution_count": null,
   "metadata": {
    "collapsed": true,
    "deletable": true,
    "editable": true
   },
   "outputs": [],
   "source": [
    "'''Find Committee IDs from Committee Names, Write To File'''\n",
    "corp_pac_path = 'data-matching' + '/corporate-pac.csv'\n",
    "corp_pac_header = ['corporate_name', 'gvkey', 'pac_name', 'pac_id']\n",
    "\n",
    "def create_corporate_table(paths):\n",
    "\n",
    "    committee = read_csv_file(paths)\n",
    "\n",
    "    # Connect to the database\n",
    "    conn = connect()\n",
    "    cur = conn.cursor()\n",
    "\n",
    "    cur.execute(\"DROP TABLE IF EXISTS CORPORATE;\")\n",
    "    cur.execute('''CREATE TABLE CORPORATE\n",
    "          (CORPORATE_NAME       CHAR(200),              NOT NULL,\n",
    "          GVKEY                 NUMERIC(14,2)           NOT NULL,\n",
    "          COMMITTEE_NAME        CHAR(200)               NOT NULL,\n",
    "          COMMITTEE_ID          CHAR(9)                 NOT NULL);''')\n",
    "    print \"Table created successfully\"\n",
    "\n",
    "    for path in paths:\n",
    "        # election_cycle = path[len(path)-6:len(path)-4] # Assuming the path ends in format like ../indiv90.txt\n",
    "        conn = connect()\n",
    "        cur = conn.cursor()\n",
    "\n",
    "        print \"Files are read from \", path\n",
    "        raw_lines = read_raw_lines([path])\n",
    "\n",
    "        for i in range(len(raw_lines)):\n",
    "            line_raw = raw_lines[i]\n",
    "            row = line_raw.split(\"|\")\n",
    "            row = [elem.strip() for elem in row]\n",
    "\n",
    "            query = \"INSERT INTO COMMITTEE (CORPORATE_NAME,GVKEY,COMMITTEE_NAME,COMMITTEE_ID) \\\n",
    "                VALUES (%s, %s, %s, %s)\"\n",
    "            cur.execute(query, row)\n",
    "\n",
    "    conn.commit()\n",
    "    conn.close()\n",
    "    print \"Corporate table is created successfully\""
   ]
  },
  {
   "cell_type": "code",
   "execution_count": 10,
   "metadata": {
    "collapsed": false,
    "deletable": true,
    "editable": true
   },
   "outputs": [
    {
     "ename": "ImportError",
     "evalue": "No module named fuzzywuzzy",
     "output_type": "error",
     "traceback": [
      "\u001b[0;31m---------------------------------------------------------------------------\u001b[0m",
      "\u001b[0;31mImportError\u001b[0m                               Traceback (most recent call last)",
      "\u001b[0;32m<ipython-input-10-a6e5d8e12180>\u001b[0m in \u001b[0;36m<module>\u001b[0;34m()\u001b[0m\n\u001b[0;32m----> 1\u001b[0;31m \u001b[0;32mfrom\u001b[0m \u001b[0mfuzzywuzzy\u001b[0m \u001b[0;32mimport\u001b[0m \u001b[0mfuzz\u001b[0m \u001b[0;31m# Does fuzzy matching of names\u001b[0m\u001b[0;34m\u001b[0m\u001b[0m\n\u001b[0m\u001b[1;32m      2\u001b[0m \u001b[0mfuzz\u001b[0m\u001b[0;34m.\u001b[0m\u001b[0mtoken_sort_ratio\u001b[0m\u001b[0;34m(\u001b[0m\u001b[0;34m'Barack Obama'\u001b[0m\u001b[0;34m,\u001b[0m \u001b[0;34m'Barack H. Obama'\u001b[0m\u001b[0;34m)\u001b[0m\u001b[0;34m\u001b[0m\u001b[0m\n",
      "\u001b[0;31mImportError\u001b[0m: No module named fuzzywuzzy"
     ]
    }
   ],
   "source": [
    "create_corporate_table(corp_pac_path):"
   ]
  },
  {
   "cell_type": "code",
   "execution_count": null,
   "metadata": {
    "collapsed": true,
    "deletable": true,
    "editable": true
   },
   "outputs": [],
   "source": [
    "'''Create Employer Table with employer_name, clean_name, gvkey'''\n",
    "employer_path = '../data' + '/employer.csv'\n",
    "employer_header = ['employer_name', 'gvkey', 'clean_name']\n",
    "employer_data = []\n",
    "\n",
    "def create_employer_table(paths):\n",
    "\n",
    "    committee = read_csv_file(paths)\n",
    "\n",
    "    # Connect to the database\n",
    "    conn = connect()\n",
    "    cur = conn.cursor()\n",
    "\n",
    "    cur.execute(\"DROP TABLE IF EXISTS EMPLOYER;\")\n",
    "    cur.execute('''CREATE TABLE CORPORATE\n",
    "          (EMPLOYER_NAME        CHAR(200),              NOT NULL,\n",
    "          CLEAN_NAME            CHAR(200),              NOT NULL,\n",
    "          GVKEY                 NUMERIC(14,2)           NOT NULL);''')\n",
    "    print \"Table created successfully\"\n",
    "\n",
    "    for path in paths:\n",
    "        # election_cycle = path[len(path)-6:len(path)-4] # Assuming the path ends in format like ../indiv90.txt\n",
    "        conn = connect()\n",
    "        cur = conn.cursor()\n",
    "\n",
    "        print \"Files are read from \", path\n",
    "        raw_lines = read_raw_lines([path])\n",
    "\n",
    "        for i in range(len(raw_lines)):\n",
    "            line_raw = raw_lines[i]\n",
    "            row = line_raw.split(\"|\")\n",
    "            row = [elem.strip() for elem in row]\n",
    "\n",
    "            query = \"INSERT INTO COMMITTEE (CORPORATE_NAME,GVKEY,COMMITTEE_NAME,COMMITTEE_ID) \\\n",
    "                VALUES (%s, %s, %s, %s)\"\n",
    "            cur.execute(query, row)\n",
    "\n",
    "    conn.commit()\n",
    "    conn.close()\n",
    "    print \"Corporate table is created successfully\""
   ]
  },
  {
   "cell_type": "code",
   "execution_count": 92,
   "metadata": {
    "collapsed": false,
    "deletable": true,
    "editable": true,
    "scrolled": true
   },
   "outputs": [
    {
     "name": "stdout",
     "output_type": "stream",
     "text": [
      "[['\"\\'\\'\\'RED HAT INC.', 'red hat inc', 'RED HAT INC\",122841,100'], ['\"\\'\\'ANN\\'\\' COMPANY', 'ann co', 'ANN INC\",21828,82.531845992'], ['\"\\' PROPERTIES', 'properties', 'BRE PROPERTIES INC\",2025,82.5327151753'], ['\"\\'8X8 INC.', '8x8 inc', '8X8 INC\",65021,100'], ['\"\\'ADSTAR INC.', 'adstar inc', 'ADSTAR INC\",124934,100'], ['\"\\'AME COMMUNITY SERVICES INC.', 'ame community services inc', 'AMERICAN COMMUNITY SERVICES\",1423,82.3940337528'], ['\"\\'ANN CO.', 'ann co', 'ANN INC\",21828,82.531845992'], ['\"\\'APOLLO GROUP, INC..', 'apollo group inc', 'APOLLO EYE GROUP INC\",29691,84.7912010613'], ['\"\\'APPLIX INC', 'applix inc', 'APPLIX INC\",31144,100']]\n",
      "103059\n"
     ]
    }
   ],
   "source": [
    "import itertools\n",
    "\n",
    "def read_csv_file(path):\n",
    "    data = []\n",
    "    with open(path) as csvfile:\n",
    "        lines = csvfile.readlines()\n",
    "        lines = [line.split('\",\"') for line in lines]\n",
    "        lines = [[elem.rstrip('\\'\\\"\\r\\n') for elem in row] for row in data]\n",
    "    return lines\n",
    "#         readCSV = csv.reader(csvfile, delimiter=',')\n",
    "# #         lines = readCSV.readlines()\n",
    "#         print sum(1 for line in readCSV)\n",
    "#         for row in itertools.islice(readCSV, 0, 50):\n",
    "#             data.append(row)\n",
    "#     return data\n",
    "\n",
    "employer_path = '../data' + '/empl_1980_2014_gvkey_match.csv'\n",
    "data = read_csv_file(employer_path)\n",
    "print [[elem.rstrip('\\'\\\"\\r\\n') for elem in row] for row in data[1:10]]\n",
    "print len(data)"
   ]
  },
  {
   "cell_type": "code",
   "execution_count": null,
   "metadata": {
    "collapsed": true,
    "deletable": true,
    "editable": true
   },
   "outputs": [],
   "source": []
  }
 ],
 "metadata": {
  "kernelspec": {
   "display_name": "Python 2",
   "language": "python",
   "name": "python2"
  },
  "language_info": {
   "codemirror_mode": {
    "name": "ipython",
    "version": 2
   },
   "file_extension": ".py",
   "mimetype": "text/x-python",
   "name": "python",
   "nbconvert_exporter": "python",
   "pygments_lexer": "ipython2",
   "version": "2.7.12"
  }
 },
 "nbformat": 4,
 "nbformat_minor": 2
}
