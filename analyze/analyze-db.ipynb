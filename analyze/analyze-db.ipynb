{
 "cells": [
  {
   "cell_type": "markdown",
   "metadata": {
    "collapsed": false,
    "deletable": true,
    "editable": true
   },
   "source": [
    "# FEC Data Analysis\n",
    "\n",
    "## Data Set Up"
   ]
  },
  {
   "cell_type": "code",
   "execution_count": 4,
   "metadata": {
    "collapsed": false,
    "deletable": true,
    "editable": true
   },
   "outputs": [
    {
     "name": "stdout",
     "output_type": "stream",
     "text": [
      "Opened database campaign-finance\n"
     ]
    }
   ],
   "source": [
    "### The data is fetched from the DB. We first connect to the DB.\n",
    "\n",
    "import ConfigParser\n",
    "import psycopg2\n",
    "import os\n",
    "main_dir = os.getcwd()\n",
    "data_dir = 'data/fec/'\n",
    "\n",
    "# Connect to the database\n",
    "def connect():\n",
    "    # Read configurations from file\n",
    "    config = ConfigParser.ConfigParser()\n",
    "    config.read(\"../database/dbconfig.cnf\")\n",
    "    database = config.get('client', 'database')\n",
    "    user = config.get('client', 'user')\n",
    "    password = config.get('client', 'password')\n",
    "    hostname = config.get('client', 'hostname')\n",
    "    port = config.get('client', 'port')\n",
    "    conn = psycopg2.connect(database=database, user = user, password = password, host = hostname, port = port)\n",
    "    print \"Opened database \" + database\n",
    "    return conn\n",
    "\n",
    "conn = connect()\n",
    "cur = conn.cursor()"
   ]
  },
  {
   "cell_type": "code",
   "execution_count": 2,
   "metadata": {
    "collapsed": false,
    "deletable": true,
    "editable": true,
    "scrolled": false
   },
   "outputs": [
    {
     "name": "stdout",
     "output_type": "stream",
     "text": [
      "('candidate',)\n",
      "('individual',)\n",
      "('committee_to_candidate',)\n",
      "('committee_to_committee',)\n",
      "('committee',)\n"
     ]
    }
   ],
   "source": [
    "# Print the tables\n",
    "\n",
    "cur.execute(\"\"\"SELECT table_name FROM information_schema.tables WHERE table_schema = 'public'\"\"\")\n",
    "for table in cur.fetchall():\n",
    "    print(table)"
   ]
  },
  {
   "cell_type": "code",
   "execution_count": 8,
   "metadata": {
    "collapsed": true,
    "deletable": true,
    "editable": true
   },
   "outputs": [],
   "source": [
    "# functions for formatting the data we get\n",
    "def format_data(data):\n",
    "    l = [[None] * len(data[0])] * len(data)\n",
    "    f = lambda x: x.strip() if type(x) is str else x\n",
    "    for i in range(len(data)):\n",
    "        l[i] = [f(elem) for elem in data[i]]\n",
    "#         if i % 100000 == 0:\n",
    "#             print i\n",
    "    return l\n",
    "\n",
    "# Alternative definition\n",
    "# def format_data(data):\n",
    "#     return [[(lambda x: x.strip() if type(x) is str else x)(x) for x in row] for row in data]"
   ]
  },
  {
   "cell_type": "code",
   "execution_count": 4,
   "metadata": {
    "collapsed": false,
    "deletable": true,
    "editable": true
   },
   "outputs": [],
   "source": [
    "# Get the data from every table and format the data\n",
    "\n",
    "'''Candidate Data'''\n",
    "CAND_ID = 0\n",
    "CAND_NAME = 1\n",
    "CAND_PTY_AFFILIATION = 2\n",
    "CAND_ELECTION_YR = 3\n",
    "CAND_OFFICE = 4\n",
    "CAND_OFFICE_DISTRICT = 5\n",
    "CAND_STATUS = 6\n",
    "CAND_COMMITTEE = 17 #principal campaign committee\n",
    "\n",
    "cur.execute(\"\"\"SELECT * FROM CANDIDATE\"\"\")\n",
    "candidate_raw = cur.fetchall()\n",
    "candidate = format_data(candidate_raw)"
   ]
  },
  {
   "cell_type": "code",
   "execution_count": null,
   "metadata": {
    "collapsed": true,
    "deletable": true,
    "editable": true
   },
   "outputs": [],
   "source": [
    "'''Committee Data'''\n",
    "CMTE_ID = 0\n",
    "CMTE_NM = 1\n",
    "CMTE_DSGN = 2\n",
    "CMTE_TP = 3\n",
    "CMTE_PTY_AFFILIATION = 4\n",
    "ORG_TP = 5\n",
    "\n",
    "cur.execute(\"\"\"SELECT * FROM COMMITTEE\"\"\")\n",
    "committee_raw = cur.fetchall()\n",
    "committee = format_data(committee_raw)"
   ]
  },
  {
   "cell_type": "code",
   "execution_count": 11,
   "metadata": {
    "collapsed": true,
    "deletable": true,
    "editable": true
   },
   "outputs": [
    {
     "name": "stdout",
     "output_type": "stream",
     "text": [
      "0\n",
      "100000\n",
      "200000\n",
      "300000\n",
      "400000\n",
      "500000\n",
      "600000\n",
      "700000\n",
      "800000\n",
      "900000\n",
      "1000000\n",
      "1100000\n",
      "1200000\n",
      "1300000\n",
      "1400000\n",
      "1500000\n",
      "1600000\n",
      "1700000\n",
      "1800000\n",
      "1900000\n",
      "2000000\n",
      "2100000\n",
      "2200000\n",
      "2300000\n",
      "2400000\n",
      "2500000\n",
      "2600000\n",
      "2700000\n",
      "2800000\n",
      "2900000\n",
      "3000000\n",
      "3100000\n",
      "3200000\n",
      "3300000\n",
      "3400000\n",
      "3500000\n",
      "3600000\n",
      "3700000\n",
      "3800000\n",
      "3900000\n",
      "4000000\n",
      "4100000\n",
      "4200000\n",
      "4300000\n",
      "4400000\n",
      "4500000\n",
      "4600000\n",
      "4700000\n",
      "4800000\n",
      "4900000\n",
      "5000000\n",
      "5100000\n",
      "5200000\n",
      "5300000\n",
      "5400000\n",
      "5500000\n",
      "5600000\n",
      "5700000\n",
      "5800000\n",
      "5900000\n",
      "6000000\n",
      "6100000\n",
      "6200000\n",
      "6300000\n",
      "6400000\n",
      "6500000\n",
      "6600000\n",
      "6700000\n",
      "6800000\n",
      "6900000\n",
      "7000000\n",
      "7100000\n",
      "7200000\n",
      "7300000\n",
      "7400000\n",
      "7500000\n",
      "7600000\n"
     ]
    }
   ],
   "source": [
    "'''Individual Data'''\n",
    "INDIV_NAME = 0\n",
    "INDIV_CITY = 1\n",
    "INDIV_STATE = 2\n",
    "INDIV_ZIP_CODE = 3\n",
    "INDIV_EMPLOYER = 4\n",
    "INDIV_OCCUPATION = 5\n",
    "INDIV_CMTE_ID = 6\n",
    "INDIV_TRAN_DATE = 7\n",
    "INDIV_TRAN_AMOUNT = 8\n",
    "INDIV_TRAN_TYPE = 9\n",
    "# ELECTION_CYCLE_POS = 4\n",
    "INDIV_ELECTION_TYPE = 10\n",
    "INDIV_REPORT_TYPE = 11\n",
    "\n",
    "cur.execute(\"\"\"SELECT * FROM INDIVIDUAL\"\"\")\n",
    "individual_raw = cur.fetchall()\n",
    "individual = format_data(individual_raw)"
   ]
  },
  {
   "cell_type": "code",
   "execution_count": 5,
   "metadata": {
    "collapsed": false,
    "deletable": true,
    "editable": true
   },
   "outputs": [],
   "source": [
    "'''Committee to Candidate Data'''\n",
    "CMTE_TO_CAND_CMTE_ID = 0\n",
    "CMTE_TO_CAND_CMTE_NAME = 1\n",
    "CMTE_TO_CAND_CAND_ID = 2\n",
    "# CAND_NAME: Candidate Name // TODO: Add this later from another table?\n",
    "CMTE_TO_CAND_TRAN_DATE = 3\n",
    "CMTE_TO_CAND_TRAN_AMOUNT_POS = 4\n",
    "CMTE_TO_CAND_TRAN_TYPE_POS = 5\n",
    "# ELECTION_CYCLE_POS = 4\n",
    "CMTE_TO_CAND_ELECTION_TYPE_POS = 6\n",
    "# IMAGE_NUM: Do we actually need this?\n",
    "\n",
    "cur.execute(\"\"\"SELECT * FROM COMMITTEE_TO_CANDIDATE\"\"\")\n",
    "comm_to_cand_raw = cur.fetchall()\n",
    "print \"Data fetched\"\n",
    "comm_to_cand = format_data(comm_to_cand_raw)"
   ]
  },
  {
   "cell_type": "code",
   "execution_count": 3,
   "metadata": {
    "collapsed": false,
    "deletable": true,
    "editable": true
   },
   "outputs": [
    {
     "ename": "NameError",
     "evalue": "name 'format_data' is not defined",
     "output_type": "error",
     "traceback": [
      "\u001b[0;31m---------------------------------------------------------------------------\u001b[0m",
      "\u001b[0;31mNameError\u001b[0m                                 Traceback (most recent call last)",
      "\u001b[0;32m<ipython-input-3-05e6d72a361a>\u001b[0m in \u001b[0;36m<module>\u001b[0;34m()\u001b[0m\n\u001b[1;32m      2\u001b[0m \u001b[0mcur\u001b[0m\u001b[0;34m.\u001b[0m\u001b[0mexecute\u001b[0m\u001b[0;34m(\u001b[0m\u001b[0;34m\"\"\"SELECT * FROM COMMITTEE_TO_COMMITTEE\"\"\"\u001b[0m\u001b[0;34m)\u001b[0m\u001b[0;34m\u001b[0m\u001b[0m\n\u001b[1;32m      3\u001b[0m \u001b[0mcomm_to_comm_raw\u001b[0m \u001b[0;34m=\u001b[0m \u001b[0mcur\u001b[0m\u001b[0;34m.\u001b[0m\u001b[0mfetchall\u001b[0m\u001b[0;34m(\u001b[0m\u001b[0;34m)\u001b[0m\u001b[0;34m\u001b[0m\u001b[0m\n\u001b[0;32m----> 4\u001b[0;31m \u001b[0mcomm_to_comm\u001b[0m \u001b[0;34m=\u001b[0m \u001b[0mformat_data\u001b[0m\u001b[0;34m(\u001b[0m\u001b[0mcomm_to_comm_raw\u001b[0m\u001b[0;34m)\u001b[0m\u001b[0;34m\u001b[0m\u001b[0m\n\u001b[0m",
      "\u001b[0;31mNameError\u001b[0m: name 'format_data' is not defined"
     ]
    }
   ],
   "source": [
    "# comm_to_comm\n",
    "CMTE_TO_CMTE_CONTRIBUTED_ID_POS = 0\n",
    "CMTE_TO_CMTE_CONTRIBUTOR_ID_POS = 1\n",
    "CMTE_TO_CMTE_CONTRIBUTOR_NAME_POS = 2\n",
    "CMTE_TO_CMTE_TRAN_DATE_POS = 3\n",
    "CMTE_TO_CMTE_TRAN_AMOUNT_POS = 4\n",
    "CMTE_TO_CMTE_TRAN_TYPE_POS = 5\n",
    "\n",
    "cur.execute(\"\"\"SELECT * FROM COMMITTEE_TO_COMMITTEE\"\"\")\n",
    "comm_to_comm_raw = cur.fetchall()\n",
    "comm_to_comm = format_data(comm_to_comm_raw)"
   ]
  },
  {
   "cell_type": "code",
   "execution_count": 9,
   "metadata": {
    "collapsed": false,
    "deletable": true,
    "editable": true
   },
   "outputs": [
    {
     "name": "stdout",
     "output_type": "stream",
     "text": [
      "0\n",
      "[['H0AK00014', 'WHITTAKER, RICHARD', 'DEM', 1980.0, 'H', '00', 'C', 'C00129916'], ['H0AK01012', 'PARNELL, KEVIN \"PAT\"', 'DEM', 1980.0, 'H', '00', 'C', 'C00115931'], ['H0AL01014', 'SMITH, STEVE', 'IND', 1980.0, 'H', '01', 'N', '']]\n"
     ]
    }
   ],
   "source": [
    "# print format_data(candidate_raw[0:3])\n",
    "\n",
    "# print len(a[0].rstrip())\n",
    "# c = 'alice'\n",
    "# print type(c) is str"
   ]
  },
  {
   "cell_type": "markdown",
   "metadata": {
    "collapsed": true,
    "deletable": true,
    "editable": true
   },
   "source": [
    "## Analysis\n",
    "\n",
    "### Hypothesis 1 - Corporations distribute campaign contributions evenly between Democratic and Republican parties."
   ]
  },
  {
   "cell_type": "code",
   "execution_count": null,
   "metadata": {
    "collapsed": true,
    "deletable": true,
    "editable": true
   },
   "outputs": [],
   "source": [
    "# Pick a few corporations and examine their contributions\n",
    "\n",
    "committee \n"
   ]
  }
 ],
 "metadata": {
  "kernelspec": {
   "display_name": "Python 2",
   "language": "python",
   "name": "python2"
  },
  "language_info": {
   "codemirror_mode": {
    "name": "ipython",
    "version": 2
   },
   "file_extension": ".py",
   "mimetype": "text/x-python",
   "name": "python",
   "nbconvert_exporter": "python",
   "pygments_lexer": "ipython2",
   "version": "2.7.12"
  }
 },
 "nbformat": 4,
 "nbformat_minor": 2
}
