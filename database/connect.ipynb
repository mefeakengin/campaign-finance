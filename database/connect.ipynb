{
 "cells": [
  {
   "cell_type": "code",
   "execution_count": 1,
   "metadata": {
    "collapsed": false,
    "deletable": true,
    "editable": true,
    "scrolled": true
   },
   "outputs": [
    {
     "name": "stdout",
     "output_type": "stream",
     "text": [
      "Config dir ../database/dbconfig.cnf\n",
      "Opened database campaign-finance\n"
     ]
    }
   ],
   "source": [
    "import ConfigParser\n",
    "import psycopg2\n",
    "import os\n",
    "main_dir = os.getcwd()\n",
    "data_dir = 'data/fec/'\n",
    "\n",
    "# Connect to the database\n",
    "def connect():\n",
    "    # Read configurations from file\n",
    "    config = ConfigParser.ConfigParser()\n",
    "    config.read(\"../database/dbconfig.cnf\")\n",
    "    print \"Config dir\", \"../database/dbconfig.cnf\"\n",
    "    database = config.get('client', 'database')\n",
    "    user = config.get('client', 'user')\n",
    "    password = config.get('client', 'password')\n",
    "    hostname = config.get('client', 'hostname')\n",
    "    port = config.get('client', 'port')\n",
    "    conn = psycopg2.connect(database=database, user = user, password = password, host = hostname, port = port)\n",
    "    print \"Opened database \" + database\n",
    "    return conn\n",
    "\n",
    "conn = connect()\n",
    "cur = conn.cursor()"
   ]
  },
  {
   "cell_type": "code",
   "execution_count": null,
   "metadata": {
    "collapsed": false,
    "deletable": true,
    "editable": true
   },
   "outputs": [],
   "source": [
    "cur.execute(\"\"\"SELECT table_name FROM information_schema.tables WHERE table_schema = 'public'\"\"\")\n",
    "for table in cur.fetchall():\n",
    "    print(table)"
   ]
  },
  {
   "cell_type": "code",
   "execution_count": null,
   "metadata": {
    "collapsed": true,
    "deletable": true,
    "editable": true
   },
   "outputs": [],
   "source": []
  }
 ],
 "metadata": {
  "kernelspec": {
   "display_name": "Python 2",
   "language": "python",
   "name": "python2"
  },
  "language_info": {
   "codemirror_mode": {
    "name": "ipython",
    "version": 2
   },
   "file_extension": ".py",
   "mimetype": "text/x-python",
   "name": "python",
   "nbconvert_exporter": "python",
   "pygments_lexer": "ipython2",
   "version": "2.7.12"
  }
 },
 "nbformat": 4,
 "nbformat_minor": 2
}
